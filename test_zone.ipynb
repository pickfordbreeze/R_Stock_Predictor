{
 "cells": [
  {
   "cell_type": "markdown",
   "metadata": {},
   "source": [
    "Run this note book with the following command in python terminal:\n",
    "voila test_zone.ipynb"
   ]
  },
  {
   "cell_type": "code",
   "execution_count": 14,
   "metadata": {},
   "outputs": [
    {
     "name": "stdout",
     "output_type": "stream",
     "text": [
      "Getting package: plotly\n",
      "Requirement already satisfied: plotly in /Users/jacksonmckinley/miniforge3/lib/python3.10/site-packages (5.23.0)\n",
      "Requirement already satisfied: tenacity>=6.2.0 in /Users/jacksonmckinley/miniforge3/lib/python3.10/site-packages (from plotly) (9.0.0)\n",
      "Requirement already satisfied: packaging in /Users/jacksonmckinley/miniforge3/lib/python3.10/site-packages (from plotly) (24.0)\n",
      "Getting package: numpy\n",
      "Requirement already satisfied: numpy in /Users/jacksonmckinley/miniforge3/lib/python3.10/site-packages (2.0.1)\n",
      "Getting package: voila\n",
      "Requirement already satisfied: voila in /Users/jacksonmckinley/miniforge3/lib/python3.10/site-packages (0.5.7)\n",
      "Requirement already satisfied: jupyter-client<9,>=7.4.4 in /Users/jacksonmckinley/miniforge3/lib/python3.10/site-packages (from voila) (8.6.2)\n",
      "Requirement already satisfied: jupyter-core>=4.11.0 in /Users/jacksonmckinley/miniforge3/lib/python3.10/site-packages (from voila) (5.7.2)\n",
      "Requirement already satisfied: jupyter-server<3,>=2.0.0 in /Users/jacksonmckinley/miniforge3/lib/python3.10/site-packages (from voila) (2.14.2)\n",
      "Requirement already satisfied: jupyterlab-server<3,>=2.3.0 in /Users/jacksonmckinley/miniforge3/lib/python3.10/site-packages (from voila) (2.27.3)\n",
      "Requirement already satisfied: nbclient>=0.4.0 in /Users/jacksonmckinley/miniforge3/lib/python3.10/site-packages (from voila) (0.10.0)\n",
      "Requirement already satisfied: nbconvert<8,>=6.4.5 in /Users/jacksonmckinley/miniforge3/lib/python3.10/site-packages (from voila) (7.16.4)\n",
      "Requirement already satisfied: traitlets<6,>=5.0.3 in /Users/jacksonmckinley/miniforge3/lib/python3.10/site-packages (from voila) (5.14.3)\n",
      "Requirement already satisfied: websockets>=9.0 in /Users/jacksonmckinley/miniforge3/lib/python3.10/site-packages (from voila) (12.0)\n",
      "Requirement already satisfied: python-dateutil>=2.8.2 in /Users/jacksonmckinley/miniforge3/lib/python3.10/site-packages (from jupyter-client<9,>=7.4.4->voila) (2.9.0.post0)\n",
      "Requirement already satisfied: pyzmq>=23.0 in /Users/jacksonmckinley/miniforge3/lib/python3.10/site-packages (from jupyter-client<9,>=7.4.4->voila) (26.1.0)\n",
      "Requirement already satisfied: tornado>=6.2 in /Users/jacksonmckinley/miniforge3/lib/python3.10/site-packages (from jupyter-client<9,>=7.4.4->voila) (6.4.1)\n",
      "Requirement already satisfied: platformdirs>=2.5 in /Users/jacksonmckinley/miniforge3/lib/python3.10/site-packages (from jupyter-core>=4.11.0->voila) (4.2.0)\n",
      "Requirement already satisfied: anyio>=3.1.0 in /Users/jacksonmckinley/miniforge3/lib/python3.10/site-packages (from jupyter-server<3,>=2.0.0->voila) (4.4.0)\n",
      "Requirement already satisfied: argon2-cffi>=21.1 in /Users/jacksonmckinley/miniforge3/lib/python3.10/site-packages (from jupyter-server<3,>=2.0.0->voila) (23.1.0)\n",
      "Requirement already satisfied: jinja2>=3.0.3 in /Users/jacksonmckinley/miniforge3/lib/python3.10/site-packages (from jupyter-server<3,>=2.0.0->voila) (3.1.4)\n",
      "Requirement already satisfied: jupyter-events>=0.9.0 in /Users/jacksonmckinley/miniforge3/lib/python3.10/site-packages (from jupyter-server<3,>=2.0.0->voila) (0.10.0)\n",
      "Requirement already satisfied: jupyter-server-terminals>=0.4.4 in /Users/jacksonmckinley/miniforge3/lib/python3.10/site-packages (from jupyter-server<3,>=2.0.0->voila) (0.5.3)\n",
      "Requirement already satisfied: nbformat>=5.3.0 in /Users/jacksonmckinley/miniforge3/lib/python3.10/site-packages (from jupyter-server<3,>=2.0.0->voila) (5.10.4)\n",
      "Requirement already satisfied: overrides>=5.0 in /Users/jacksonmckinley/miniforge3/lib/python3.10/site-packages (from jupyter-server<3,>=2.0.0->voila) (7.7.0)\n",
      "Requirement already satisfied: packaging>=22.0 in /Users/jacksonmckinley/miniforge3/lib/python3.10/site-packages (from jupyter-server<3,>=2.0.0->voila) (24.0)\n",
      "Requirement already satisfied: prometheus-client>=0.9 in /Users/jacksonmckinley/miniforge3/lib/python3.10/site-packages (from jupyter-server<3,>=2.0.0->voila) (0.20.0)\n",
      "Requirement already satisfied: send2trash>=1.8.2 in /Users/jacksonmckinley/miniforge3/lib/python3.10/site-packages (from jupyter-server<3,>=2.0.0->voila) (1.8.3)\n",
      "Requirement already satisfied: terminado>=0.8.3 in /Users/jacksonmckinley/miniforge3/lib/python3.10/site-packages (from jupyter-server<3,>=2.0.0->voila) (0.18.1)\n",
      "Requirement already satisfied: websocket-client>=1.7 in /Users/jacksonmckinley/miniforge3/lib/python3.10/site-packages (from jupyter-server<3,>=2.0.0->voila) (1.8.0)\n",
      "Requirement already satisfied: babel>=2.10 in /Users/jacksonmckinley/miniforge3/lib/python3.10/site-packages (from jupyterlab-server<3,>=2.3.0->voila) (2.16.0)\n",
      "Requirement already satisfied: json5>=0.9.0 in /Users/jacksonmckinley/miniforge3/lib/python3.10/site-packages (from jupyterlab-server<3,>=2.3.0->voila) (0.9.25)\n",
      "Requirement already satisfied: jsonschema>=4.18.0 in /Users/jacksonmckinley/miniforge3/lib/python3.10/site-packages (from jupyterlab-server<3,>=2.3.0->voila) (4.23.0)\n",
      "Requirement already satisfied: requests>=2.31 in /Users/jacksonmckinley/miniforge3/lib/python3.10/site-packages (from jupyterlab-server<3,>=2.3.0->voila) (2.31.0)\n",
      "Requirement already satisfied: beautifulsoup4 in /Users/jacksonmckinley/miniforge3/lib/python3.10/site-packages (from nbconvert<8,>=6.4.5->voila) (4.12.3)\n",
      "Requirement already satisfied: bleach!=5.0.0 in /Users/jacksonmckinley/miniforge3/lib/python3.10/site-packages (from nbconvert<8,>=6.4.5->voila) (6.1.0)\n",
      "Requirement already satisfied: defusedxml in /Users/jacksonmckinley/miniforge3/lib/python3.10/site-packages (from nbconvert<8,>=6.4.5->voila) (0.7.1)\n",
      "Requirement already satisfied: jupyterlab-pygments in /Users/jacksonmckinley/miniforge3/lib/python3.10/site-packages (from nbconvert<8,>=6.4.5->voila) (0.3.0)\n",
      "Requirement already satisfied: markupsafe>=2.0 in /Users/jacksonmckinley/miniforge3/lib/python3.10/site-packages (from nbconvert<8,>=6.4.5->voila) (2.1.5)\n",
      "Requirement already satisfied: mistune<4,>=2.0.3 in /Users/jacksonmckinley/miniforge3/lib/python3.10/site-packages (from nbconvert<8,>=6.4.5->voila) (3.0.2)\n",
      "Requirement already satisfied: pandocfilters>=1.4.1 in /Users/jacksonmckinley/miniforge3/lib/python3.10/site-packages (from nbconvert<8,>=6.4.5->voila) (1.5.1)\n",
      "Requirement already satisfied: pygments>=2.4.1 in /Users/jacksonmckinley/miniforge3/lib/python3.10/site-packages (from nbconvert<8,>=6.4.5->voila) (2.18.0)\n",
      "Requirement already satisfied: tinycss2 in /Users/jacksonmckinley/miniforge3/lib/python3.10/site-packages (from nbconvert<8,>=6.4.5->voila) (1.3.0)\n",
      "Requirement already satisfied: idna>=2.8 in /Users/jacksonmckinley/miniforge3/lib/python3.10/site-packages (from anyio>=3.1.0->jupyter-server<3,>=2.0.0->voila) (3.6)\n",
      "Requirement already satisfied: sniffio>=1.1 in /Users/jacksonmckinley/miniforge3/lib/python3.10/site-packages (from anyio>=3.1.0->jupyter-server<3,>=2.0.0->voila) (1.3.1)\n",
      "Requirement already satisfied: exceptiongroup>=1.0.2 in /Users/jacksonmckinley/miniforge3/lib/python3.10/site-packages (from anyio>=3.1.0->jupyter-server<3,>=2.0.0->voila) (1.2.2)\n",
      "Requirement already satisfied: typing-extensions>=4.1 in /Users/jacksonmckinley/miniforge3/lib/python3.10/site-packages (from anyio>=3.1.0->jupyter-server<3,>=2.0.0->voila) (4.12.2)\n",
      "Requirement already satisfied: argon2-cffi-bindings in /Users/jacksonmckinley/miniforge3/lib/python3.10/site-packages (from argon2-cffi>=21.1->jupyter-server<3,>=2.0.0->voila) (21.2.0)\n",
      "Requirement already satisfied: six>=1.9.0 in /Users/jacksonmckinley/miniforge3/lib/python3.10/site-packages (from bleach!=5.0.0->nbconvert<8,>=6.4.5->voila) (1.16.0)\n",
      "Requirement already satisfied: webencodings in /Users/jacksonmckinley/miniforge3/lib/python3.10/site-packages (from bleach!=5.0.0->nbconvert<8,>=6.4.5->voila) (0.5.1)\n",
      "Requirement already satisfied: attrs>=22.2.0 in /Users/jacksonmckinley/miniforge3/lib/python3.10/site-packages (from jsonschema>=4.18.0->jupyterlab-server<3,>=2.3.0->voila) (24.2.0)\n",
      "Requirement already satisfied: jsonschema-specifications>=2023.03.6 in /Users/jacksonmckinley/miniforge3/lib/python3.10/site-packages (from jsonschema>=4.18.0->jupyterlab-server<3,>=2.3.0->voila) (2023.12.1)\n",
      "Requirement already satisfied: referencing>=0.28.4 in /Users/jacksonmckinley/miniforge3/lib/python3.10/site-packages (from jsonschema>=4.18.0->jupyterlab-server<3,>=2.3.0->voila) (0.35.1)\n",
      "Requirement already satisfied: rpds-py>=0.7.1 in /Users/jacksonmckinley/miniforge3/lib/python3.10/site-packages (from jsonschema>=4.18.0->jupyterlab-server<3,>=2.3.0->voila) (0.20.0)\n",
      "Requirement already satisfied: python-json-logger>=2.0.4 in /Users/jacksonmckinley/miniforge3/lib/python3.10/site-packages (from jupyter-events>=0.9.0->jupyter-server<3,>=2.0.0->voila) (2.0.7)\n",
      "Requirement already satisfied: pyyaml>=5.3 in /Users/jacksonmckinley/miniforge3/lib/python3.10/site-packages (from jupyter-events>=0.9.0->jupyter-server<3,>=2.0.0->voila) (6.0.2)\n",
      "Requirement already satisfied: rfc3339-validator in /Users/jacksonmckinley/miniforge3/lib/python3.10/site-packages (from jupyter-events>=0.9.0->jupyter-server<3,>=2.0.0->voila) (0.1.4)\n",
      "Requirement already satisfied: rfc3986-validator>=0.1.1 in /Users/jacksonmckinley/miniforge3/lib/python3.10/site-packages (from jupyter-events>=0.9.0->jupyter-server<3,>=2.0.0->voila) (0.1.1)\n",
      "Requirement already satisfied: fastjsonschema>=2.15 in /Users/jacksonmckinley/miniforge3/lib/python3.10/site-packages (from nbformat>=5.3.0->jupyter-server<3,>=2.0.0->voila) (2.20.0)\n",
      "Requirement already satisfied: charset-normalizer<4,>=2 in /Users/jacksonmckinley/miniforge3/lib/python3.10/site-packages (from requests>=2.31->jupyterlab-server<3,>=2.3.0->voila) (3.3.2)\n",
      "Requirement already satisfied: urllib3<3,>=1.21.1 in /Users/jacksonmckinley/miniforge3/lib/python3.10/site-packages (from requests>=2.31->jupyterlab-server<3,>=2.3.0->voila) (2.2.1)\n",
      "Requirement already satisfied: certifi>=2017.4.17 in /Users/jacksonmckinley/miniforge3/lib/python3.10/site-packages (from requests>=2.31->jupyterlab-server<3,>=2.3.0->voila) (2024.2.2)\n",
      "Requirement already satisfied: ptyprocess in /Users/jacksonmckinley/miniforge3/lib/python3.10/site-packages (from terminado>=0.8.3->jupyter-server<3,>=2.0.0->voila) (0.7.0)\n",
      "Requirement already satisfied: soupsieve>1.2 in /Users/jacksonmckinley/miniforge3/lib/python3.10/site-packages (from beautifulsoup4->nbconvert<8,>=6.4.5->voila) (2.6)\n",
      "Requirement already satisfied: fqdn in /Users/jacksonmckinley/miniforge3/lib/python3.10/site-packages (from jsonschema[format-nongpl]>=4.18.0->jupyter-events>=0.9.0->jupyter-server<3,>=2.0.0->voila) (1.5.1)\n",
      "Requirement already satisfied: isoduration in /Users/jacksonmckinley/miniforge3/lib/python3.10/site-packages (from jsonschema[format-nongpl]>=4.18.0->jupyter-events>=0.9.0->jupyter-server<3,>=2.0.0->voila) (20.11.0)\n",
      "Requirement already satisfied: jsonpointer>1.13 in /Users/jacksonmckinley/miniforge3/lib/python3.10/site-packages (from jsonschema[format-nongpl]>=4.18.0->jupyter-events>=0.9.0->jupyter-server<3,>=2.0.0->voila) (2.4)\n",
      "Requirement already satisfied: uri-template in /Users/jacksonmckinley/miniforge3/lib/python3.10/site-packages (from jsonschema[format-nongpl]>=4.18.0->jupyter-events>=0.9.0->jupyter-server<3,>=2.0.0->voila) (1.3.0)\n",
      "Requirement already satisfied: webcolors>=24.6.0 in /Users/jacksonmckinley/miniforge3/lib/python3.10/site-packages (from jsonschema[format-nongpl]>=4.18.0->jupyter-events>=0.9.0->jupyter-server<3,>=2.0.0->voila) (24.8.0)\n",
      "Requirement already satisfied: cffi>=1.0.1 in /Users/jacksonmckinley/miniforge3/lib/python3.10/site-packages (from argon2-cffi-bindings->argon2-cffi>=21.1->jupyter-server<3,>=2.0.0->voila) (1.16.0)\n",
      "Requirement already satisfied: pycparser in /Users/jacksonmckinley/miniforge3/lib/python3.10/site-packages (from cffi>=1.0.1->argon2-cffi-bindings->argon2-cffi>=21.1->jupyter-server<3,>=2.0.0->voila) (2.22)\n",
      "Requirement already satisfied: arrow>=0.15.0 in /Users/jacksonmckinley/miniforge3/lib/python3.10/site-packages (from isoduration->jsonschema[format-nongpl]>=4.18.0->jupyter-events>=0.9.0->jupyter-server<3,>=2.0.0->voila) (1.3.0)\n",
      "Requirement already satisfied: types-python-dateutil>=2.8.10 in /Users/jacksonmckinley/miniforge3/lib/python3.10/site-packages (from arrow>=0.15.0->isoduration->jsonschema[format-nongpl]>=4.18.0->jupyter-events>=0.9.0->jupyter-server<3,>=2.0.0->voila) (2.9.0.20240316)\n",
      "Getting package: ipywidgets\n",
      "Requirement already satisfied: ipywidgets in /Users/jacksonmckinley/miniforge3/lib/python3.10/site-packages (8.1.3)\n",
      "Requirement already satisfied: comm>=0.1.3 in /Users/jacksonmckinley/miniforge3/lib/python3.10/site-packages (from ipywidgets) (0.2.2)\n",
      "Requirement already satisfied: ipython>=6.1.0 in /Users/jacksonmckinley/miniforge3/lib/python3.10/site-packages (from ipywidgets) (8.26.0)\n",
      "Requirement already satisfied: traitlets>=4.3.1 in /Users/jacksonmckinley/miniforge3/lib/python3.10/site-packages (from ipywidgets) (5.14.3)\n",
      "Requirement already satisfied: widgetsnbextension~=4.0.11 in /Users/jacksonmckinley/miniforge3/lib/python3.10/site-packages (from ipywidgets) (4.0.11)\n",
      "Requirement already satisfied: jupyterlab-widgets~=3.0.11 in /Users/jacksonmckinley/miniforge3/lib/python3.10/site-packages (from ipywidgets) (3.0.11)\n",
      "Requirement already satisfied: decorator in /Users/jacksonmckinley/miniforge3/lib/python3.10/site-packages (from ipython>=6.1.0->ipywidgets) (5.1.1)\n",
      "Requirement already satisfied: jedi>=0.16 in /Users/jacksonmckinley/miniforge3/lib/python3.10/site-packages (from ipython>=6.1.0->ipywidgets) (0.19.1)\n",
      "Requirement already satisfied: matplotlib-inline in /Users/jacksonmckinley/miniforge3/lib/python3.10/site-packages (from ipython>=6.1.0->ipywidgets) (0.1.7)\n",
      "Requirement already satisfied: prompt-toolkit<3.1.0,>=3.0.41 in /Users/jacksonmckinley/miniforge3/lib/python3.10/site-packages (from ipython>=6.1.0->ipywidgets) (3.0.47)\n",
      "Requirement already satisfied: pygments>=2.4.0 in /Users/jacksonmckinley/miniforge3/lib/python3.10/site-packages (from ipython>=6.1.0->ipywidgets) (2.18.0)\n",
      "Requirement already satisfied: stack-data in /Users/jacksonmckinley/miniforge3/lib/python3.10/site-packages (from ipython>=6.1.0->ipywidgets) (0.6.3)\n",
      "Requirement already satisfied: exceptiongroup in /Users/jacksonmckinley/miniforge3/lib/python3.10/site-packages (from ipython>=6.1.0->ipywidgets) (1.2.2)\n",
      "Requirement already satisfied: typing-extensions>=4.6 in /Users/jacksonmckinley/miniforge3/lib/python3.10/site-packages (from ipython>=6.1.0->ipywidgets) (4.12.2)\n",
      "Requirement already satisfied: pexpect>4.3 in /Users/jacksonmckinley/miniforge3/lib/python3.10/site-packages (from ipython>=6.1.0->ipywidgets) (4.9.0)\n",
      "Requirement already satisfied: parso<0.9.0,>=0.8.3 in /Users/jacksonmckinley/miniforge3/lib/python3.10/site-packages (from jedi>=0.16->ipython>=6.1.0->ipywidgets) (0.8.4)\n",
      "Requirement already satisfied: ptyprocess>=0.5 in /Users/jacksonmckinley/miniforge3/lib/python3.10/site-packages (from pexpect>4.3->ipython>=6.1.0->ipywidgets) (0.7.0)\n",
      "Requirement already satisfied: wcwidth in /Users/jacksonmckinley/miniforge3/lib/python3.10/site-packages (from prompt-toolkit<3.1.0,>=3.0.41->ipython>=6.1.0->ipywidgets) (0.2.13)\n",
      "Requirement already satisfied: executing>=1.2.0 in /Users/jacksonmckinley/miniforge3/lib/python3.10/site-packages (from stack-data->ipython>=6.1.0->ipywidgets) (2.0.1)\n",
      "Requirement already satisfied: asttokens>=2.1.0 in /Users/jacksonmckinley/miniforge3/lib/python3.10/site-packages (from stack-data->ipython>=6.1.0->ipywidgets) (2.4.1)\n",
      "Requirement already satisfied: pure-eval in /Users/jacksonmckinley/miniforge3/lib/python3.10/site-packages (from stack-data->ipython>=6.1.0->ipywidgets) (0.2.3)\n",
      "Requirement already satisfied: six>=1.12.0 in /Users/jacksonmckinley/miniforge3/lib/python3.10/site-packages (from asttokens>=2.1.0->stack-data->ipython>=6.1.0->ipywidgets) (1.16.0)\n",
      "Getting package: ipyvuetify\n",
      "Requirement already satisfied: ipyvuetify in /Users/jacksonmckinley/miniforge3/lib/python3.10/site-packages (1.10.0)\n",
      "Requirement already satisfied: ipyvue<2,>=1.7 in /Users/jacksonmckinley/miniforge3/lib/python3.10/site-packages (from ipyvuetify) (1.11.1)\n",
      "Requirement already satisfied: ipywidgets>=7.0.0 in /Users/jacksonmckinley/miniforge3/lib/python3.10/site-packages (from ipyvue<2,>=1.7->ipyvuetify) (8.1.3)\n",
      "Requirement already satisfied: comm>=0.1.3 in /Users/jacksonmckinley/miniforge3/lib/python3.10/site-packages (from ipywidgets>=7.0.0->ipyvue<2,>=1.7->ipyvuetify) (0.2.2)\n",
      "Requirement already satisfied: ipython>=6.1.0 in /Users/jacksonmckinley/miniforge3/lib/python3.10/site-packages (from ipywidgets>=7.0.0->ipyvue<2,>=1.7->ipyvuetify) (8.26.0)\n",
      "Requirement already satisfied: traitlets>=4.3.1 in /Users/jacksonmckinley/miniforge3/lib/python3.10/site-packages (from ipywidgets>=7.0.0->ipyvue<2,>=1.7->ipyvuetify) (5.14.3)\n",
      "Requirement already satisfied: widgetsnbextension~=4.0.11 in /Users/jacksonmckinley/miniforge3/lib/python3.10/site-packages (from ipywidgets>=7.0.0->ipyvue<2,>=1.7->ipyvuetify) (4.0.11)\n",
      "Requirement already satisfied: jupyterlab-widgets~=3.0.11 in /Users/jacksonmckinley/miniforge3/lib/python3.10/site-packages (from ipywidgets>=7.0.0->ipyvue<2,>=1.7->ipyvuetify) (3.0.11)\n",
      "Requirement already satisfied: decorator in /Users/jacksonmckinley/miniforge3/lib/python3.10/site-packages (from ipython>=6.1.0->ipywidgets>=7.0.0->ipyvue<2,>=1.7->ipyvuetify) (5.1.1)\n",
      "Requirement already satisfied: jedi>=0.16 in /Users/jacksonmckinley/miniforge3/lib/python3.10/site-packages (from ipython>=6.1.0->ipywidgets>=7.0.0->ipyvue<2,>=1.7->ipyvuetify) (0.19.1)\n",
      "Requirement already satisfied: matplotlib-inline in /Users/jacksonmckinley/miniforge3/lib/python3.10/site-packages (from ipython>=6.1.0->ipywidgets>=7.0.0->ipyvue<2,>=1.7->ipyvuetify) (0.1.7)\n",
      "Requirement already satisfied: prompt-toolkit<3.1.0,>=3.0.41 in /Users/jacksonmckinley/miniforge3/lib/python3.10/site-packages (from ipython>=6.1.0->ipywidgets>=7.0.0->ipyvue<2,>=1.7->ipyvuetify) (3.0.47)\n",
      "Requirement already satisfied: pygments>=2.4.0 in /Users/jacksonmckinley/miniforge3/lib/python3.10/site-packages (from ipython>=6.1.0->ipywidgets>=7.0.0->ipyvue<2,>=1.7->ipyvuetify) (2.18.0)\n",
      "Requirement already satisfied: stack-data in /Users/jacksonmckinley/miniforge3/lib/python3.10/site-packages (from ipython>=6.1.0->ipywidgets>=7.0.0->ipyvue<2,>=1.7->ipyvuetify) (0.6.3)\n",
      "Requirement already satisfied: exceptiongroup in /Users/jacksonmckinley/miniforge3/lib/python3.10/site-packages (from ipython>=6.1.0->ipywidgets>=7.0.0->ipyvue<2,>=1.7->ipyvuetify) (1.2.2)\n",
      "Requirement already satisfied: typing-extensions>=4.6 in /Users/jacksonmckinley/miniforge3/lib/python3.10/site-packages (from ipython>=6.1.0->ipywidgets>=7.0.0->ipyvue<2,>=1.7->ipyvuetify) (4.12.2)\n",
      "Requirement already satisfied: pexpect>4.3 in /Users/jacksonmckinley/miniforge3/lib/python3.10/site-packages (from ipython>=6.1.0->ipywidgets>=7.0.0->ipyvue<2,>=1.7->ipyvuetify) (4.9.0)\n",
      "Requirement already satisfied: parso<0.9.0,>=0.8.3 in /Users/jacksonmckinley/miniforge3/lib/python3.10/site-packages (from jedi>=0.16->ipython>=6.1.0->ipywidgets>=7.0.0->ipyvue<2,>=1.7->ipyvuetify) (0.8.4)\n",
      "Requirement already satisfied: ptyprocess>=0.5 in /Users/jacksonmckinley/miniforge3/lib/python3.10/site-packages (from pexpect>4.3->ipython>=6.1.0->ipywidgets>=7.0.0->ipyvue<2,>=1.7->ipyvuetify) (0.7.0)\n",
      "Requirement already satisfied: wcwidth in /Users/jacksonmckinley/miniforge3/lib/python3.10/site-packages (from prompt-toolkit<3.1.0,>=3.0.41->ipython>=6.1.0->ipywidgets>=7.0.0->ipyvue<2,>=1.7->ipyvuetify) (0.2.13)\n",
      "Requirement already satisfied: executing>=1.2.0 in /Users/jacksonmckinley/miniforge3/lib/python3.10/site-packages (from stack-data->ipython>=6.1.0->ipywidgets>=7.0.0->ipyvue<2,>=1.7->ipyvuetify) (2.0.1)\n",
      "Requirement already satisfied: asttokens>=2.1.0 in /Users/jacksonmckinley/miniforge3/lib/python3.10/site-packages (from stack-data->ipython>=6.1.0->ipywidgets>=7.0.0->ipyvue<2,>=1.7->ipyvuetify) (2.4.1)\n",
      "Requirement already satisfied: pure-eval in /Users/jacksonmckinley/miniforge3/lib/python3.10/site-packages (from stack-data->ipython>=6.1.0->ipywidgets>=7.0.0->ipyvue<2,>=1.7->ipyvuetify) (0.2.3)\n",
      "Requirement already satisfied: six>=1.12.0 in /Users/jacksonmckinley/miniforge3/lib/python3.10/site-packages (from asttokens>=2.1.0->stack-data->ipython>=6.1.0->ipywidgets>=7.0.0->ipyvue<2,>=1.7->ipyvuetify) (1.16.0)\n",
      "Getting package: yfinance\n",
      "Requirement already satisfied: yfinance in /Users/jacksonmckinley/miniforge3/lib/python3.10/site-packages (0.2.41)\n",
      "Requirement already satisfied: pandas>=1.3.0 in /Users/jacksonmckinley/miniforge3/lib/python3.10/site-packages (from yfinance) (2.2.2)\n",
      "Requirement already satisfied: numpy>=1.16.5 in /Users/jacksonmckinley/miniforge3/lib/python3.10/site-packages (from yfinance) (2.0.1)\n",
      "Requirement already satisfied: requests>=2.31 in /Users/jacksonmckinley/miniforge3/lib/python3.10/site-packages (from yfinance) (2.31.0)\n",
      "Requirement already satisfied: multitasking>=0.0.7 in /Users/jacksonmckinley/miniforge3/lib/python3.10/site-packages (from yfinance) (0.0.11)\n",
      "Requirement already satisfied: lxml>=4.9.1 in /Users/jacksonmckinley/miniforge3/lib/python3.10/site-packages (from yfinance) (5.3.0)\n",
      "Requirement already satisfied: platformdirs>=2.0.0 in /Users/jacksonmckinley/miniforge3/lib/python3.10/site-packages (from yfinance) (4.2.0)\n",
      "Requirement already satisfied: pytz>=2022.5 in /Users/jacksonmckinley/miniforge3/lib/python3.10/site-packages (from yfinance) (2024.1)\n",
      "Requirement already satisfied: frozendict>=2.3.4 in /Users/jacksonmckinley/miniforge3/lib/python3.10/site-packages (from yfinance) (2.4.4)\n",
      "Requirement already satisfied: peewee>=3.16.2 in /Users/jacksonmckinley/miniforge3/lib/python3.10/site-packages (from yfinance) (3.17.6)\n",
      "Requirement already satisfied: beautifulsoup4>=4.11.1 in /Users/jacksonmckinley/miniforge3/lib/python3.10/site-packages (from yfinance) (4.12.3)\n",
      "Requirement already satisfied: html5lib>=1.1 in /Users/jacksonmckinley/miniforge3/lib/python3.10/site-packages (from yfinance) (1.1)\n",
      "Requirement already satisfied: soupsieve>1.2 in /Users/jacksonmckinley/miniforge3/lib/python3.10/site-packages (from beautifulsoup4>=4.11.1->yfinance) (2.6)\n",
      "Requirement already satisfied: six>=1.9 in /Users/jacksonmckinley/miniforge3/lib/python3.10/site-packages (from html5lib>=1.1->yfinance) (1.16.0)\n",
      "Requirement already satisfied: webencodings in /Users/jacksonmckinley/miniforge3/lib/python3.10/site-packages (from html5lib>=1.1->yfinance) (0.5.1)\n",
      "Requirement already satisfied: python-dateutil>=2.8.2 in /Users/jacksonmckinley/miniforge3/lib/python3.10/site-packages (from pandas>=1.3.0->yfinance) (2.9.0.post0)\n",
      "Requirement already satisfied: tzdata>=2022.7 in /Users/jacksonmckinley/miniforge3/lib/python3.10/site-packages (from pandas>=1.3.0->yfinance) (2024.1)\n",
      "Requirement already satisfied: charset-normalizer<4,>=2 in /Users/jacksonmckinley/miniforge3/lib/python3.10/site-packages (from requests>=2.31->yfinance) (3.3.2)\n",
      "Requirement already satisfied: idna<4,>=2.5 in /Users/jacksonmckinley/miniforge3/lib/python3.10/site-packages (from requests>=2.31->yfinance) (3.6)\n",
      "Requirement already satisfied: urllib3<3,>=1.21.1 in /Users/jacksonmckinley/miniforge3/lib/python3.10/site-packages (from requests>=2.31->yfinance) (2.2.1)\n",
      "Requirement already satisfied: certifi>=2017.4.17 in /Users/jacksonmckinley/miniforge3/lib/python3.10/site-packages (from requests>=2.31->yfinance) (2024.2.2)\n"
     ]
    }
   ],
   "source": [
    "import subprocess \n",
    "\n",
    "def get_packages(file_path):\n",
    "    with open(file_path, 'r') as file:\n",
    "        lines = file.readlines()\n",
    "\n",
    "    for line in lines:\n",
    "        package  = line.strip()\n",
    "        if package:\n",
    "            print(f\"Getting package: {package}\")\n",
    "            subprocess.run(['pip', 'install', package])\n",
    "\n",
    "get_packages('app_dependencies.txt')\n"
   ]
  },
  {
   "cell_type": "code",
   "execution_count": 15,
   "metadata": {},
   "outputs": [],
   "source": [
    "from app_files import dash\n",
    "# a = dash.home_page()\n",
    "# display(a)\n"
   ]
  },
  {
   "cell_type": "code",
   "execution_count": 18,
   "metadata": {},
   "outputs": [
    {
     "data": {
      "application/vnd.jupyter.widget-view+json": {
       "model_id": "a2d0817c39b44e96b9f5f92560eacf04",
       "version_major": 2,
       "version_minor": 0
      },
      "text/plain": [
       "Btn(children=['hello world'], class_='ma-2', layout=None)"
      ]
     },
     "metadata": {},
     "output_type": "display_data"
    },
    {
     "data": {
      "application/vnd.jupyter.widget-view+json": {
       "model_id": "57262509ec3f4ed599e8bc1249944cdb",
       "version_major": 2,
       "version_minor": 0
      },
      "text/plain": [
       "Output()"
      ]
     },
     "metadata": {},
     "output_type": "display_data"
    }
   ],
   "source": [
    "import ipywidgets as w\n",
    "import ipyvuetify as v \n",
    "\n",
    "output = w.Output()\n",
    "\n",
    "with output:\n",
    "    print('Testing')\n",
    "\n",
    "but_1 = v.Btn(children = ['hello world'], class_ = 'ma-2')\n",
    "\n",
    "display(but_1)\n",
    "display(output)"
   ]
  }
 ],
 "metadata": {
  "kernelspec": {
   "display_name": "Python 3",
   "language": "python",
   "name": "python3"
  },
  "language_info": {
   "codemirror_mode": {
    "name": "ipython",
    "version": 3
   },
   "file_extension": ".py",
   "mimetype": "text/x-python",
   "name": "python",
   "nbconvert_exporter": "python",
   "pygments_lexer": "ipython3",
   "version": "3.11.1"
  }
 },
 "nbformat": 4,
 "nbformat_minor": 2
}
